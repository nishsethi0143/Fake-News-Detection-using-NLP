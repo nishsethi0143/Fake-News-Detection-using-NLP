{
 "cells": [
  {
   "cell_type": "code",
   "execution_count": null,
   "id": "a3568941-2517-454f-b171-84dff1733366",
   "metadata": {},
   "outputs": [
    {
     "name": "stderr",
     "output_type": "stream",
     "text": [
      "[nltk_data] Error loading stopwords: <urlopen error [Errno 11001]\n",
      "[nltk_data]     getaddrinfo failed>\n"
     ]
    }
   ],
   "source": [
    "# Preprocessing.ipynb\n",
    "\n",
    "import pandas as pd\n",
    "import string\n",
    "import nltk\n",
    "from nltk.corpus import stopwords\n",
    "from nltk.stem import PorterStemmer\n",
    "from tqdm import tqdm\n",
    "tqdm.pandas()\n",
    "\n",
    "import os\n",
    "\n",
    "nltk.download('stopwords')\n",
    "\n",
    "# Load the data\n",
    "true_df = pd.read_csv('../data/True.csv')\n",
    "fake_df = pd.read_csv('../data/Fake.csv')\n",
    "\n",
    "# Label the datasets\n",
    "true_df['label'] = 1\n",
    "fake_df['label'] = 0\n",
    "\n",
    "# Combine both\n",
    "df = pd.concat([true_df, fake_df], axis=0).reset_index(drop=True)\n",
    "# df = df.sample(2000).reset_index(drop=True)  # Test on 2000 rows first\n",
    "\n",
    "# Optional: use only 'title' or 'text'\n",
    "df = df[['text', 'label']].dropna()\n",
    "\n",
    "# Preprocessing\n",
    "stop_words = set(stopwords.words('english'))\n",
    "stemmer = PorterStemmer()\n",
    "\n",
    "def clean_text(text):\n",
    "    text = text.lower()\n",
    "    text = text.translate(str.maketrans('', '', string.punctuation))\n",
    "    words = text.split()\n",
    "    words = [stemmer.stem(word) for word in words if word not in stop_words]\n",
    "    return ' '.join(words)\n",
    "\n",
    "df['clean_text'] = df['text'].apply(clean_text)\n",
    "\n",
    "# Save cleaned data\n",
    "os.makedirs('../data/preprocessed', exist_ok=True)\n",
    "df.to_csv('../data/preprocessed/cleaned.csv', index=False)\n",
    "df['clean_text'] = df['text'].progress_apply(clean_text)\n",
    "print(\"✅ Preprocessing complete. Saved to data/preprocessed/cleaned.csv\")"
   ]
  },
  {
   "cell_type": "code",
   "execution_count": 2,
   "id": "d453d99a-72b0-4992-aa48-de4f1f000a18",
   "metadata": {},
   "outputs": [
    {
     "name": "stdout",
     "output_type": "stream",
     "text": [
      "Requirement already satisfied: tqdm in d:\\anaconda\\lib\\site-packages (4.66.5)\n",
      "Requirement already satisfied: colorama in d:\\anaconda\\lib\\site-packages (from tqdm) (0.4.6)\n",
      "Note: you may need to restart the kernel to use updated packages.\n"
     ]
    }
   ],
   "source": [
    "pip install tqdm"
   ]
  },
  {
   "cell_type": "code",
   "execution_count": null,
   "id": "efb7d1c9-5517-4588-8903-d9b40f16fef5",
   "metadata": {},
   "outputs": [],
   "source": []
  }
 ],
 "metadata": {
  "kernelspec": {
   "display_name": "Python [conda env:base] *",
   "language": "python",
   "name": "conda-base-py"
  },
  "language_info": {
   "codemirror_mode": {
    "name": "ipython",
    "version": 3
   },
   "file_extension": ".py",
   "mimetype": "text/x-python",
   "name": "python",
   "nbconvert_exporter": "python",
   "pygments_lexer": "ipython3",
   "version": "3.12.9"
  }
 },
 "nbformat": 4,
 "nbformat_minor": 5
}
