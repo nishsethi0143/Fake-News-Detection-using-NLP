{
 "cells": [
  {
   "cell_type": "code",
   "execution_count": 3,
   "id": "02778ba0-3777-4118-a1ed-942edbffc823",
   "metadata": {},
   "outputs": [
    {
     "name": "stdout",
     "output_type": "stream",
     "text": [
      "✅ TF-IDF features extracted and saved successfully!\n"
     ]
    }
   ],
   "source": [
    "# Step 1: Imports\n",
    "import pandas as pd\n",
    "from sklearn.feature_extraction.text import TfidfVectorizer\n",
    "import joblib\n",
    "from tqdm import tqdm\n",
    "tqdm.pandas()\n",
    "import os\n",
    "# Step 2: Load preprocessed data\n",
    "df = pd.read_csv('../data/preprocessed/cleaned.csv')  # Adjust path if needed\n",
    "# Step 3: Feature + Label Extraction\n",
    "X = df['clean_text']\n",
    "y = df['label']  # Should be 'FAKE' or 'REAL'\n",
    "\n",
    "X = X.fillna('')\n",
    "# Step 4: TF-IDF Vectorizer\n",
    "vectorizer = TfidfVectorizer(max_features=5000)\n",
    "X_tfidf = vectorizer.fit_transform(X)\n",
    "\n",
    "# Step 5: Save TF-IDF features + vectorizer\n",
    "os.makedirs('../data/processed', exist_ok=True)\n",
    "\n",
    "joblib.dump(vectorizer, '../data/processed/tfidf_vectorizer.joblib')\n",
    "joblib.dump(X_tfidf, '../data/processed/X_tfidf.joblib')\n",
    "joblib.dump(y, '../data/processed/y.joblib')\n",
    "\n",
    "print(\"✅ TF-IDF features extracted and saved successfully!\")"
   ]
  },
  {
   "cell_type": "code",
   "execution_count": 2,
   "id": "47e3ffd5-9e5a-4663-b37a-3795186b7085",
   "metadata": {},
   "outputs": [
    {
     "name": "stdout",
     "output_type": "stream",
     "text": [
      "Requirement already satisfied: tqdm in d:\\anaconda\\lib\\site-packages (4.66.5)\n",
      "Requirement already satisfied: colorama in d:\\anaconda\\lib\\site-packages (from tqdm) (0.4.6)\n",
      "Note: you may need to restart the kernel to use updated packages.\n"
     ]
    }
   ],
   "source": [
    "pip install tqdm"
   ]
  },
  {
   "cell_type": "code",
   "execution_count": null,
   "id": "4df9eabb-02bd-4496-97a9-7cf21980ed6b",
   "metadata": {},
   "outputs": [],
   "source": []
  }
 ],
 "metadata": {
  "kernelspec": {
   "display_name": "Python [conda env:base] *",
   "language": "python",
   "name": "conda-base-py"
  },
  "language_info": {
   "codemirror_mode": {
    "name": "ipython",
    "version": 3
   },
   "file_extension": ".py",
   "mimetype": "text/x-python",
   "name": "python",
   "nbconvert_exporter": "python",
   "pygments_lexer": "ipython3",
   "version": "3.12.9"
  }
 },
 "nbformat": 4,
 "nbformat_minor": 5
}
