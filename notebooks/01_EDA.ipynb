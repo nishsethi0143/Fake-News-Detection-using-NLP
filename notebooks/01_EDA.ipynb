{
 "cells": [
  {
   "cell_type": "code",
   "execution_count": 1,
   "id": "08833fec-970a-4ee4-bdb2-04914c3c7539",
   "metadata": {},
   "outputs": [
    {
     "name": "stdout",
     "output_type": "stream",
     "text": [
      "Shape: (44898, 5)\n",
      "label\n",
      "0    23481\n",
      "1    21417\n",
      "Name: count, dtype: int64\n",
      "                                               title  \\\n",
      "0  MELANIA TRUMP Recites The Lord’s Prayer At Flo...   \n",
      "1  MIGRANTS BRUTALLY GANG RAPE 3 YR OLD BOY At As...   \n",
      "2   Damning New Evidence Shows Cop Who Murdered U...   \n",
      "3  House 2017 defense bill would face Obama veto:...   \n",
      "4  Man with Palestinian flag smashes Jewish resta...   \n",
      "\n",
      "                                                text       subject  \\\n",
      "0                                                         politics   \n",
      "1  The world is stunned by the number of women an...      politics   \n",
      "2  In 2011, St. Louis police officer Jason Stockl...          News   \n",
      "3  WASHINGTON (Reuters) - President Barack Obama’...  politicsNews   \n",
      "4  AMSTERDAM (Reuters) - A man with a Palestinian...     worldnews   \n",
      "\n",
      "                 date  label  \n",
      "0        Feb 19, 2017      0  \n",
      "1        Jan 13, 2016      0  \n",
      "2  September 20, 2016      0  \n",
      "3       May 16, 2016       1  \n",
      "4   December 7, 2017       1  \n"
     ]
    }
   ],
   "source": [
    "# notebooks/EDA.ipynb\n",
    "\n",
    "import pandas as pd\n",
    "\n",
    "# Load data\n",
    "true_df = pd.read_csv('../data/True.csv')\n",
    "fake_df = pd.read_csv('../data/Fake.csv')\n",
    "\n",
    "# Add labels\n",
    "true_df['label'] = 1  # Real\n",
    "fake_df['label'] = 0  # Fake\n",
    "\n",
    "# Combine datasets\n",
    "df = pd.concat([true_df, fake_df])\n",
    "df = df.sample(frac=1).reset_index(drop=True)\n",
    "\n",
    "# Save combined file\n",
    "df.to_csv('../data/preprocessed/combined.csv', index=False)\n",
    "\n",
    "# Basic EDA\n",
    "print(\"Shape:\", df.shape)\n",
    "print(df['label'].value_counts())\n",
    "print(df.head())"
   ]
  },
  {
   "cell_type": "code",
   "execution_count": null,
   "id": "de9805bc-ecff-42b9-9008-638defab4391",
   "metadata": {},
   "outputs": [],
   "source": []
  }
 ],
 "metadata": {
  "kernelspec": {
   "display_name": "Python [conda env:base] *",
   "language": "python",
   "name": "conda-base-py"
  },
  "language_info": {
   "codemirror_mode": {
    "name": "ipython",
    "version": 3
   },
   "file_extension": ".py",
   "mimetype": "text/x-python",
   "name": "python",
   "nbconvert_exporter": "python",
   "pygments_lexer": "ipython3",
   "version": "3.12.9"
  }
 },
 "nbformat": 4,
 "nbformat_minor": 5
}
